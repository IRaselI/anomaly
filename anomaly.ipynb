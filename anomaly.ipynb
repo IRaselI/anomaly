{
 "cells": [
  {
   "cell_type": "code",
   "execution_count": 1,
   "id": "initial_id",
   "metadata": {
    "collapsed": true,
    "ExecuteTime": {
     "end_time": "2024-03-03T19:49:18.525879Z",
     "start_time": "2024-03-03T19:49:17.177636Z"
    }
   },
   "outputs": [],
   "source": [
    "import pandas as pd\n",
    "from ultralytics import YOLO\n",
    "import torch\n",
    "from torch import device\n",
    "import matplotlib.pyplot as plt\n",
    "from PIL import Image\n",
    "from tqdm.notebook import tqdm\n",
    "%matplotlib inline"
   ]
  },
  {
   "cell_type": "code",
   "outputs": [],
   "source": [
    "device = torch.device('cuda' if torch.cuda.is_available() else 'cpu')"
   ],
   "metadata": {
    "collapsed": false,
    "ExecuteTime": {
     "end_time": "2024-03-03T19:49:19.087013Z",
     "start_time": "2024-03-03T19:49:19.084006Z"
    }
   },
   "id": "cd5b8d886ea5e852",
   "execution_count": 2
  },
  {
   "cell_type": "code",
   "outputs": [],
   "source": [
    "model = YOLO('yolov8n.pt')"
   ],
   "metadata": {
    "collapsed": false,
    "ExecuteTime": {
     "end_time": "2024-03-03T19:49:19.248370Z",
     "start_time": "2024-03-03T19:49:19.219899Z"
    }
   },
   "id": "ec49ed749300d52e",
   "execution_count": 3
  },
  {
   "cell_type": "code",
   "outputs": [],
   "source": [
    "data = pd.DataFrame()\n",
    "path = ''"
   ],
   "metadata": {
    "collapsed": false
   },
   "id": "d532494711fb2978"
  },
  {
   "cell_type": "code",
   "outputs": [],
   "source": [
    "def is_anomaly(filename: str) -> bool:\n",
    "    im = Image.open(filename).resize((256, 256))\n",
    "    img = Image.new(im.mode, size=(512, 512))\n",
    "    img.paste(im, (128, 128))\n",
    "    empty = True\n",
    "    state = False\n",
    "    for angle in range(0, 360, 90):\n",
    "        result = model.predict(img.rotate(angle), device=device)[0].boxes\n",
    "        for cls, conf in zip(result.cls.cpu().numpy(), result.conf.cpu().numpy()):\n",
    "            if 13 < cls < 24: #animals\n",
    "                state = True\n",
    "            elif conf > 0.5:\n",
    "                empty = False\n",
    "    return not (empty or state)"
   ],
   "metadata": {
    "collapsed": false,
    "ExecuteTime": {
     "end_time": "2024-03-03T19:49:19.874012Z",
     "start_time": "2024-03-03T19:49:19.871250Z"
    }
   },
   "id": "212e503bf5859732",
   "execution_count": 4
  },
  {
   "cell_type": "code",
   "outputs": [],
   "source": [
    "mask = [is_anomaly(f'{filename}') for filename in tqdm(data['file'])]"
   ],
   "metadata": {
    "collapsed": false
   },
   "id": "247fe73b9692c3c5"
  },
  {
   "cell_type": "code",
   "outputs": [],
   "source": [
    "anomalies = data[mask]"
   ],
   "metadata": {
    "collapsed": false
   },
   "id": "2d65bbd419aa31d9"
  },
  {
   "cell_type": "code",
   "outputs": [],
   "source": [
    "for k in range(3):\n",
    "    fig, ax = plt.subplots(3, 3)\n",
    "    for i in range(9 * k, 9 * (k + 1)):\n",
    "        ax[i % 9 // 3, i % 9 % 3].imshow(Image.open(f'{anomalies.iloc[i, 0]}'))"
   ],
   "metadata": {
    "collapsed": false
   },
   "id": "51c9e318b9e943f9"
  }
 ],
 "metadata": {
  "kernelspec": {
   "display_name": "Python 3",
   "language": "python",
   "name": "python3"
  },
  "language_info": {
   "codemirror_mode": {
    "name": "ipython",
    "version": 2
   },
   "file_extension": ".py",
   "mimetype": "text/x-python",
   "name": "python",
   "nbconvert_exporter": "python",
   "pygments_lexer": "ipython2",
   "version": "2.7.6"
  }
 },
 "nbformat": 4,
 "nbformat_minor": 5
}
